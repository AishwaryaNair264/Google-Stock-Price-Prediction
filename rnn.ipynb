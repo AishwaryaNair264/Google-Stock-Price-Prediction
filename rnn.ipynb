{
  "nbformat": 4,
  "nbformat_minor": 0,
  "metadata": {
    "colab": {
      "provenance": []
    },
    "kernelspec": {
      "name": "python3",
      "display_name": "Python 3"
    },
    "language_info": {
      "name": "python"
    }
  },
  "cells": [
    {
      "cell_type": "markdown",
      "source": [
        "# Recurrent Neural Network"
      ],
      "metadata": {
        "id": "z5hC_LroUzDb"
      }
    },
    {
      "cell_type": "markdown",
      "source": [
        "## Part 1 - Data Preprocessing"
      ],
      "metadata": {
        "id": "a9iSa5T4U3Ec"
      }
    },
    {
      "cell_type": "markdown",
      "source": [
        "### Importing the libraries"
      ],
      "metadata": {
        "id": "pKdEN5FeU8kh"
      }
    },
    {
      "cell_type": "code",
      "execution_count": 3,
      "metadata": {
        "id": "SXL16YCRUb8t"
      },
      "outputs": [],
      "source": [
        "import numpy as np\n",
        "import matplotlib.pyplot as plt\n",
        "import pandas as pd"
      ]
    },
    {
      "cell_type": "markdown",
      "source": [
        "### Importing the training set"
      ],
      "metadata": {
        "id": "5zjDDSbEVDZI"
      }
    },
    {
      "cell_type": "code",
      "source": [
        "dataset_train = pd.read_csv('Google_Stock_Price_Train.csv')\n",
        "training_set = dataset_train.iloc[:, 1:2].values"
      ],
      "metadata": {
        "id": "26tGsooKVAp5"
      },
      "execution_count": 4,
      "outputs": []
    },
    {
      "cell_type": "markdown",
      "source": [
        "### Feature Scaling"
      ],
      "metadata": {
        "id": "kmVLcy-kVJTQ"
      }
    },
    {
      "cell_type": "code",
      "source": [
        "from sklearn.preprocessing import MinMaxScaler\n",
        "sc = MinMaxScaler(feature_range = (0, 1))\n",
        "training_set_scaled = sc.fit_transform(training_set)"
      ],
      "metadata": {
        "id": "y6qajupDVGXs"
      },
      "execution_count": 5,
      "outputs": []
    },
    {
      "cell_type": "markdown",
      "source": [
        "### Creating a data structure with 60 timesteps and 1 output"
      ],
      "metadata": {
        "id": "7lDPhWmoVOlF"
      }
    },
    {
      "cell_type": "code",
      "source": [
        "X_train = []\n",
        "y_train = []\n",
        "for i in range(60, 1258):\n",
        "    X_train.append(training_set_scaled[i-60:i, 0])\n",
        "    y_train.append(training_set_scaled[i, 0])\n",
        "X_train, y_train = np.array(X_train), np.array(y_train)"
      ],
      "metadata": {
        "id": "lEuX1LXYVLDR"
      },
      "execution_count": 7,
      "outputs": []
    },
    {
      "cell_type": "markdown",
      "source": [
        "### Reshaping"
      ],
      "metadata": {
        "id": "9c_fmpUtVUlr"
      }
    },
    {
      "cell_type": "code",
      "source": [
        "X_train = np.reshape(X_train, (X_train.shape[0], X_train.shape[1], 1))"
      ],
      "metadata": {
        "id": "q3Vy4H-0VN9L"
      },
      "execution_count": 8,
      "outputs": []
    },
    {
      "cell_type": "markdown",
      "source": [
        "## Part 2 - Building and Training the RNN"
      ],
      "metadata": {
        "id": "UlECazMlVaSO"
      }
    },
    {
      "cell_type": "markdown",
      "source": [
        "### Importing the Keras libraries and packages"
      ],
      "metadata": {
        "id": "Zth6wxdEVd56"
      }
    },
    {
      "cell_type": "code",
      "source": [
        "from keras.models import Sequential\n",
        "from keras.layers import Dense\n",
        "from keras.layers import LSTM\n",
        "from keras.layers import Dropout"
      ],
      "metadata": {
        "id": "VvnYAxlJVX5r"
      },
      "execution_count": 9,
      "outputs": []
    },
    {
      "cell_type": "markdown",
      "source": [
        "### Initialising the RNN"
      ],
      "metadata": {
        "id": "009-jYndVi0j"
      }
    },
    {
      "cell_type": "code",
      "source": [
        "regressor = Sequential()"
      ],
      "metadata": {
        "id": "jobgvd7ZVfzB"
      },
      "execution_count": 10,
      "outputs": []
    },
    {
      "cell_type": "markdown",
      "source": [
        "### Adding the first LSTM layer and some Dropout regularisation"
      ],
      "metadata": {
        "id": "LzgGuqYWVnq-"
      }
    },
    {
      "cell_type": "code",
      "source": [
        "regressor.add(LSTM(units = 50, return_sequences = True, input_shape = (X_train.shape[1], 1)))\n",
        "regressor.add(Dropout(0.2))"
      ],
      "metadata": {
        "id": "PkBiTnloVlTm"
      },
      "execution_count": 11,
      "outputs": []
    },
    {
      "cell_type": "markdown",
      "source": [
        "### Adding a second LSTM layer and some Dropout regularisation"
      ],
      "metadata": {
        "id": "MU9z-zIeVsX-"
      }
    },
    {
      "cell_type": "code",
      "source": [
        "regressor.add(LSTM(units = 50, return_sequences = True))\n",
        "regressor.add(Dropout(0.2))"
      ],
      "metadata": {
        "id": "QsLNwrzVVqBE"
      },
      "execution_count": 12,
      "outputs": []
    },
    {
      "cell_type": "markdown",
      "source": [
        "### Adding a fourth LSTM layer and some Dropout regularisation"
      ],
      "metadata": {
        "id": "Z-KGGPT0V3_h"
      }
    },
    {
      "cell_type": "code",
      "source": [
        "regressor.add(LSTM(units = 50))\n",
        "regressor.add(Dropout(0.2))"
      ],
      "metadata": {
        "id": "1uqcsWCiV1_x"
      },
      "execution_count": 13,
      "outputs": []
    },
    {
      "cell_type": "markdown",
      "source": [
        "### Adding the output layer"
      ],
      "metadata": {
        "id": "JG-Z9Yl9V8OD"
      }
    },
    {
      "cell_type": "code",
      "source": [
        "regressor.add(Dense(units = 1))"
      ],
      "metadata": {
        "id": "zcw7DpRyV7HU"
      },
      "execution_count": 14,
      "outputs": []
    },
    {
      "cell_type": "markdown",
      "source": [
        "### Compiling the RNN"
      ],
      "metadata": {
        "id": "Yx89GxSiWIEo"
      }
    },
    {
      "cell_type": "code",
      "source": [
        "regressor.compile(optimizer = 'adam', loss = 'mean_squared_error')"
      ],
      "metadata": {
        "id": "2KRPu7GSV_sS"
      },
      "execution_count": 15,
      "outputs": []
    },
    {
      "cell_type": "markdown",
      "source": [
        "### Fitting the RNN to the Training set"
      ],
      "metadata": {
        "id": "eqBnYIEbWNvZ"
      }
    },
    {
      "cell_type": "code",
      "source": [
        "regressor.fit(X_train, y_train, epochs = 100, batch_size = 32)"
      ],
      "metadata": {
        "colab": {
          "base_uri": "https://localhost:8080/"
        },
        "id": "TYUbFqvFWKrR",
        "outputId": "388e44f9-404c-41b8-c6c0-17419ec28a29"
      },
      "execution_count": 16,
      "outputs": [
        {
          "output_type": "stream",
          "name": "stdout",
          "text": [
            "Epoch 1/100\n",
            "38/38 [==============================] - 10s 77ms/step - loss: 0.0367\n",
            "Epoch 2/100\n",
            "38/38 [==============================] - 3s 78ms/step - loss: 0.0052\n",
            "Epoch 3/100\n",
            "38/38 [==============================] - 3s 77ms/step - loss: 0.0051\n",
            "Epoch 4/100\n",
            "38/38 [==============================] - 4s 115ms/step - loss: 0.0044\n",
            "Epoch 5/100\n",
            "38/38 [==============================] - 3s 77ms/step - loss: 0.0043\n",
            "Epoch 6/100\n",
            "38/38 [==============================] - 3s 77ms/step - loss: 0.0040\n",
            "Epoch 7/100\n",
            "38/38 [==============================] - 3s 78ms/step - loss: 0.0036\n",
            "Epoch 8/100\n",
            "38/38 [==============================] - 4s 106ms/step - loss: 0.0038\n",
            "Epoch 9/100\n",
            "38/38 [==============================] - 3s 81ms/step - loss: 0.0038\n",
            "Epoch 10/100\n",
            "38/38 [==============================] - 3s 83ms/step - loss: 0.0039\n",
            "Epoch 11/100\n",
            "38/38 [==============================] - 3s 88ms/step - loss: 0.0044\n",
            "Epoch 12/100\n",
            "38/38 [==============================] - 4s 110ms/step - loss: 0.0043\n",
            "Epoch 13/100\n",
            "38/38 [==============================] - 3s 80ms/step - loss: 0.0037\n",
            "Epoch 14/100\n",
            "38/38 [==============================] - 3s 75ms/step - loss: 0.0043\n",
            "Epoch 15/100\n",
            "38/38 [==============================] - 3s 77ms/step - loss: 0.0036\n",
            "Epoch 16/100\n",
            "38/38 [==============================] - 4s 99ms/step - loss: 0.0037\n",
            "Epoch 17/100\n",
            "38/38 [==============================] - 3s 85ms/step - loss: 0.0037\n",
            "Epoch 18/100\n",
            "38/38 [==============================] - 3s 78ms/step - loss: 0.0031\n",
            "Epoch 19/100\n",
            "38/38 [==============================] - 3s 77ms/step - loss: 0.0034\n",
            "Epoch 20/100\n",
            "38/38 [==============================] - 5s 120ms/step - loss: 0.0031\n",
            "Epoch 21/100\n",
            "38/38 [==============================] - 3s 86ms/step - loss: 0.0029\n",
            "Epoch 22/100\n",
            "38/38 [==============================] - 3s 83ms/step - loss: 0.0032\n",
            "Epoch 23/100\n",
            "38/38 [==============================] - 6s 169ms/step - loss: 0.0031\n",
            "Epoch 24/100\n",
            "38/38 [==============================] - 6s 166ms/step - loss: 0.0026\n",
            "Epoch 25/100\n",
            "38/38 [==============================] - 3s 89ms/step - loss: 0.0029\n",
            "Epoch 26/100\n",
            "38/38 [==============================] - 3s 77ms/step - loss: 0.0030\n",
            "Epoch 27/100\n",
            "38/38 [==============================] - 3s 90ms/step - loss: 0.0028\n",
            "Epoch 28/100\n",
            "38/38 [==============================] - 5s 123ms/step - loss: 0.0031\n",
            "Epoch 29/100\n",
            "38/38 [==============================] - 3s 76ms/step - loss: 0.0035\n",
            "Epoch 30/100\n",
            "38/38 [==============================] - 3s 79ms/step - loss: 0.0027\n",
            "Epoch 31/100\n",
            "38/38 [==============================] - 4s 100ms/step - loss: 0.0026\n",
            "Epoch 32/100\n",
            "38/38 [==============================] - 3s 90ms/step - loss: 0.0025\n",
            "Epoch 33/100\n",
            "38/38 [==============================] - 3s 76ms/step - loss: 0.0025\n",
            "Epoch 34/100\n",
            "38/38 [==============================] - 4s 95ms/step - loss: 0.0024\n",
            "Epoch 35/100\n",
            "38/38 [==============================] - 5s 141ms/step - loss: 0.0026\n",
            "Epoch 36/100\n",
            "38/38 [==============================] - 4s 94ms/step - loss: 0.0026\n",
            "Epoch 37/100\n",
            "38/38 [==============================] - 5s 133ms/step - loss: 0.0024\n",
            "Epoch 38/100\n",
            "38/38 [==============================] - 8s 204ms/step - loss: 0.0024\n",
            "Epoch 39/100\n",
            "38/38 [==============================] - 4s 91ms/step - loss: 0.0021\n",
            "Epoch 40/100\n",
            "38/38 [==============================] - 5s 138ms/step - loss: 0.0023\n",
            "Epoch 41/100\n",
            "38/38 [==============================] - 9s 235ms/step - loss: 0.0023\n",
            "Epoch 42/100\n",
            "38/38 [==============================] - 8s 208ms/step - loss: 0.0024\n",
            "Epoch 43/100\n",
            "38/38 [==============================] - 3s 79ms/step - loss: 0.0023\n",
            "Epoch 44/100\n",
            "38/38 [==============================] - 3s 77ms/step - loss: 0.0025\n",
            "Epoch 45/100\n",
            "38/38 [==============================] - 3s 77ms/step - loss: 0.0019\n",
            "Epoch 46/100\n",
            "38/38 [==============================] - 4s 102ms/step - loss: 0.0027\n",
            "Epoch 47/100\n",
            "38/38 [==============================] - 3s 86ms/step - loss: 0.0023\n",
            "Epoch 48/100\n",
            "38/38 [==============================] - 3s 76ms/step - loss: 0.0023\n",
            "Epoch 49/100\n",
            "38/38 [==============================] - 3s 77ms/step - loss: 0.0021\n",
            "Epoch 50/100\n",
            "38/38 [==============================] - 4s 97ms/step - loss: 0.0022\n",
            "Epoch 51/100\n",
            "38/38 [==============================] - 4s 93ms/step - loss: 0.0022\n",
            "Epoch 52/100\n",
            "38/38 [==============================] - 3s 78ms/step - loss: 0.0020\n",
            "Epoch 53/100\n",
            "38/38 [==============================] - 3s 77ms/step - loss: 0.0020\n",
            "Epoch 54/100\n",
            "38/38 [==============================] - 4s 104ms/step - loss: 0.0021\n",
            "Epoch 55/100\n",
            "38/38 [==============================] - 4s 106ms/step - loss: 0.0020\n",
            "Epoch 56/100\n",
            "38/38 [==============================] - 3s 78ms/step - loss: 0.0021\n",
            "Epoch 57/100\n",
            "38/38 [==============================] - 3s 77ms/step - loss: 0.0026\n",
            "Epoch 58/100\n",
            "38/38 [==============================] - 3s 89ms/step - loss: 0.0021\n",
            "Epoch 59/100\n",
            "38/38 [==============================] - 4s 102ms/step - loss: 0.0016\n",
            "Epoch 60/100\n",
            "38/38 [==============================] - 3s 79ms/step - loss: 0.0021\n",
            "Epoch 61/100\n",
            "38/38 [==============================] - 3s 78ms/step - loss: 0.0019\n",
            "Epoch 62/100\n",
            "38/38 [==============================] - 3s 82ms/step - loss: 0.0017\n",
            "Epoch 63/100\n",
            "38/38 [==============================] - 4s 109ms/step - loss: 0.0018\n",
            "Epoch 64/100\n",
            "38/38 [==============================] - 3s 78ms/step - loss: 0.0019\n",
            "Epoch 65/100\n",
            "38/38 [==============================] - 3s 79ms/step - loss: 0.0018\n",
            "Epoch 66/100\n",
            "38/38 [==============================] - 3s 78ms/step - loss: 0.0017\n",
            "Epoch 67/100\n",
            "38/38 [==============================] - 5s 132ms/step - loss: 0.0017\n",
            "Epoch 68/100\n",
            "38/38 [==============================] - 3s 91ms/step - loss: 0.0018\n",
            "Epoch 69/100\n",
            "38/38 [==============================] - 3s 76ms/step - loss: 0.0017\n",
            "Epoch 70/100\n",
            "38/38 [==============================] - 3s 83ms/step - loss: 0.0018\n",
            "Epoch 71/100\n",
            "38/38 [==============================] - 4s 101ms/step - loss: 0.0016\n",
            "Epoch 72/100\n",
            "38/38 [==============================] - 3s 76ms/step - loss: 0.0016\n",
            "Epoch 73/100\n",
            "38/38 [==============================] - 3s 77ms/step - loss: 0.0016\n",
            "Epoch 74/100\n",
            "38/38 [==============================] - 3s 81ms/step - loss: 0.0017\n",
            "Epoch 75/100\n",
            "38/38 [==============================] - 4s 106ms/step - loss: 0.0015\n",
            "Epoch 76/100\n",
            "38/38 [==============================] - 3s 77ms/step - loss: 0.0016\n",
            "Epoch 77/100\n",
            "38/38 [==============================] - 3s 76ms/step - loss: 0.0017\n",
            "Epoch 78/100\n",
            "38/38 [==============================] - 3s 78ms/step - loss: 0.0016\n",
            "Epoch 79/100\n",
            "38/38 [==============================] - 4s 112ms/step - loss: 0.0015\n",
            "Epoch 80/100\n",
            "38/38 [==============================] - 3s 77ms/step - loss: 0.0016\n",
            "Epoch 81/100\n",
            "38/38 [==============================] - 3s 80ms/step - loss: 0.0015\n",
            "Epoch 82/100\n",
            "38/38 [==============================] - 3s 78ms/step - loss: 0.0015\n",
            "Epoch 83/100\n",
            "38/38 [==============================] - 5s 140ms/step - loss: 0.0014\n",
            "Epoch 84/100\n",
            "38/38 [==============================] - 4s 104ms/step - loss: 0.0015\n",
            "Epoch 85/100\n",
            "38/38 [==============================] - 3s 78ms/step - loss: 0.0013\n",
            "Epoch 86/100\n",
            "38/38 [==============================] - 3s 91ms/step - loss: 0.0016\n",
            "Epoch 87/100\n",
            "38/38 [==============================] - 4s 94ms/step - loss: 0.0014\n",
            "Epoch 88/100\n",
            "38/38 [==============================] - 3s 77ms/step - loss: 0.0015\n",
            "Epoch 89/100\n",
            "38/38 [==============================] - 3s 81ms/step - loss: 0.0013\n",
            "Epoch 90/100\n",
            "38/38 [==============================] - 3s 87ms/step - loss: 0.0015\n",
            "Epoch 91/100\n",
            "38/38 [==============================] - 4s 101ms/step - loss: 0.0014\n",
            "Epoch 92/100\n",
            "38/38 [==============================] - 3s 77ms/step - loss: 0.0015\n",
            "Epoch 93/100\n",
            "38/38 [==============================] - 3s 78ms/step - loss: 0.0015\n",
            "Epoch 94/100\n",
            "38/38 [==============================] - 3s 84ms/step - loss: 0.0016\n",
            "Epoch 95/100\n",
            "38/38 [==============================] - 4s 105ms/step - loss: 0.0013\n",
            "Epoch 96/100\n",
            "38/38 [==============================] - 3s 77ms/step - loss: 0.0012\n",
            "Epoch 97/100\n",
            "38/38 [==============================] - 3s 76ms/step - loss: 0.0013\n",
            "Epoch 98/100\n",
            "38/38 [==============================] - 3s 77ms/step - loss: 0.0012\n",
            "Epoch 99/100\n",
            "38/38 [==============================] - 4s 111ms/step - loss: 0.0012\n",
            "Epoch 100/100\n",
            "38/38 [==============================] - 3s 77ms/step - loss: 0.0014\n"
          ]
        },
        {
          "output_type": "execute_result",
          "data": {
            "text/plain": [
              "<keras.src.callbacks.History at 0x7b8c080edde0>"
            ]
          },
          "metadata": {},
          "execution_count": 16
        }
      ]
    },
    {
      "cell_type": "markdown",
      "source": [
        "## Part 3 - Making the predictions and visualising the results"
      ],
      "metadata": {
        "id": "E0Y_Y-ZhWkRl"
      }
    },
    {
      "cell_type": "markdown",
      "source": [
        "### Getting the real stock price of 2017"
      ],
      "metadata": {
        "id": "PrF9EtEsWnQp"
      }
    },
    {
      "cell_type": "code",
      "source": [
        "dataset_test = pd.read_csv('Google_Stock_Price_Test.csv')\n",
        "real_stock_price = dataset_test.iloc[:, 1:2].values"
      ],
      "metadata": {
        "id": "uOXkHO2pWmos"
      },
      "execution_count": 17,
      "outputs": []
    },
    {
      "cell_type": "markdown",
      "source": [
        "### Getting the predicted stock price of 2017"
      ],
      "metadata": {
        "id": "2XwYxUhoWvgk"
      }
    },
    {
      "cell_type": "code",
      "source": [
        "dataset_total = pd.concat((dataset_train['Open'], dataset_test['Open']), axis = 0)\n",
        "inputs = dataset_total[len(dataset_total) - len(dataset_test) - 60:].values\n",
        "inputs = inputs.reshape(-1,1)\n",
        "inputs = sc.transform(inputs)\n",
        "X_test = []\n",
        "for i in range(60, 80):\n",
        "    X_test.append(inputs[i-60:i, 0])\n",
        "X_test = np.array(X_test)\n",
        "X_test = np.reshape(X_test, (X_test.shape[0], X_test.shape[1], 1))\n",
        "predicted_stock_price = regressor.predict(X_test)\n",
        "predicted_stock_price = sc.inverse_transform(predicted_stock_price)"
      ],
      "metadata": {
        "colab": {
          "base_uri": "https://localhost:8080/"
        },
        "id": "RMZJTtFZWQ3K",
        "outputId": "6c14e3af-eb7c-4d47-e2a3-0a41f5b0372e"
      },
      "execution_count": 18,
      "outputs": [
        {
          "output_type": "stream",
          "name": "stdout",
          "text": [
            "1/1 [==============================] - 1s 1s/step\n"
          ]
        }
      ]
    },
    {
      "cell_type": "markdown",
      "source": [
        "### Calculating Error"
      ],
      "metadata": {
        "id": "G4Efg_PmY-O-"
      }
    },
    {
      "cell_type": "code",
      "source": [
        "from sklearn.metrics import mean_absolute_error, mean_squared_error\n",
        "\n",
        "mae = mean_absolute_error(real_stock_price, predicted_stock_price)\n",
        "mse = mean_squared_error(real_stock_price, predicted_stock_price)\n",
        "\n",
        "print(f'Mean Absolute Error: {mae}')\n",
        "print(f'Mean Squared Error: {mse}')"
      ],
      "metadata": {
        "colab": {
          "base_uri": "https://localhost:8080/"
        },
        "id": "PuMfCIDqZK9-",
        "outputId": "597af40c-9608-4858-b613-3e52cf62d37c"
      },
      "execution_count": 20,
      "outputs": [
        {
          "output_type": "stream",
          "name": "stdout",
          "text": [
            "Mean Absolute Error: 9.381645507812499\n",
            "Mean Squared Error: 155.2879509503412\n"
          ]
        }
      ]
    },
    {
      "cell_type": "markdown",
      "source": [
        "### Visualising the results"
      ],
      "metadata": {
        "id": "jYdha0XwWzOW"
      }
    },
    {
      "cell_type": "code",
      "source": [
        "plt.plot(real_stock_price, color = 'red', label = 'Real Google Stock Price')\n",
        "plt.plot(predicted_stock_price, color = 'blue', label = 'Predicted Google Stock Price')\n",
        "plt.title('Google Stock Price Prediction')\n",
        "plt.xlabel('Time')\n",
        "plt.ylabel('Google Stock Price')\n",
        "plt.legend()\n",
        "plt.show()"
      ],
      "metadata": {
        "colab": {
          "base_uri": "https://localhost:8080/",
          "height": 472
        },
        "id": "Sc-dBmqiW0-D",
        "outputId": "fb777a96-df3a-4c76-d602-ad3848d3211b"
      },
      "execution_count": 19,
      "outputs": [
        {
          "output_type": "display_data",
          "data": {
            "text/plain": [
              "<Figure size 640x480 with 1 Axes>"
            ],
            "image/png": "[encoded data removed]"
          },
          "metadata": {}
        }
      ]
    },
    {
      "cell_type": "markdown",
      "source": [],
      "metadata": {
        "id": "E-5IQq4qW29q"
      }
    }
  ]
}